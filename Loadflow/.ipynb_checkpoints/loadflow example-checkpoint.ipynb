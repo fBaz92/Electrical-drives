{
 "cells": [
  {
   "cell_type": "code",
   "execution_count": 1,
   "metadata": {
    "pycharm": {
     "is_executing": true,
     "name": "#%%\n"
    }
   },
   "outputs": [],
   "source": [
    "import numpy as np"
   ]
  },
  {
   "cell_type": "code",
   "execution_count": 2,
   "metadata": {
    "pycharm": {
     "name": "#%%\n"
    }
   },
   "outputs": [],
   "source": [
    "a = 2\n",
    "b = 2\n",
    "c = a+b*1j"
   ]
  },
  {
   "cell_type": "code",
   "execution_count": 3,
   "metadata": {
    "pycharm": {
     "name": "#%%\n"
    }
   },
   "outputs": [
    {
     "data": {
      "text/plain": [
       "0.7853981633974483"
      ]
     },
     "execution_count": 3,
     "metadata": {},
     "output_type": "execute_result"
    }
   ],
   "source": [
    "np.angle(c)"
   ]
  },
  {
   "cell_type": "code",
   "execution_count": 4,
   "metadata": {
    "pycharm": {
     "name": "#%%\n"
    }
   },
   "outputs": [],
   "source": [
    "import numpy as np\n",
    "import matplotlib.pyplot as plt\n",
    "import pandas as pd\n",
    "import itertools\n",
    "\n",
    "\n",
    "def pol2cart(r, theta):\n",
    "    z = r * np.exp(1j * theta)\n",
    "    x, y = z.real, z.imag\n",
    "    return x, y\n",
    "\n",
    "\n",
    "def cart2pol(x, y):\n",
    "    z = x + y * 1j\n",
    "    r, theta = np.abs(z), np.angle(z)\n",
    "    return r, theta\n",
    "\n",
    "\n",
    "class Node:\n",
    "    nodeNumber = 0\n",
    "    names = set()\n",
    "\n",
    "    @property\n",
    "    def name(self):\n",
    "        return self._name\n",
    "\n",
    "    def __init__(self, type: int, voltage: float, theta: float, PGi: float, QGi: float, PLi: float, QLi: float,\n",
    "                 Qmin: float, Qmax: float, name=None):\n",
    "        self.nodeNumber = Node.nodeNumber\n",
    "        Node.nodeNumber += 1\n",
    "        self.voltage = voltage\n",
    "        self.type = type\n",
    "        self.theta = theta\n",
    "        self.PGi = PGi\n",
    "        self.QGi = QGi\n",
    "        self.PLi = PLi\n",
    "        self.QLi = QLi\n",
    "        self.Qmin = Qmin\n",
    "        self.Qmax = Qmax\n",
    "        self.vLf = self.voltage\n",
    "        self.thetaLf = self.theta\n",
    "\n",
    "        if name in Node.names:\n",
    "            Node.nodeNumber -= 1\n",
    "            raise NameError(\"Already used name '%s'.\" % name)\n",
    "        if name is None:\n",
    "            self._name = str(self.nodeNumber)\n",
    "        else:\n",
    "            self._name = name\n",
    "\n",
    "        Node.names.add(self.name)\n",
    "\n",
    "    @property\n",
    "    def vm(self):\n",
    "        return self.voltage * np.exp(self.theta * 1j)\n",
    "\n",
    "    @property\n",
    "    def vmLf(self):\n",
    "        return self.vLf * np.exp(self.thetaLf * 1j)\n",
    "\n",
    "\n",
    "class Line:\n",
    "    lineNumber = 0\n",
    "    names = set()\n",
    "\n",
    "    @property\n",
    "    def name(self):\n",
    "        return self._name\n",
    "\n",
    "    def __init__(self, fromNode: Node, toNode: Node, r: float, x: float, b_half: float, x_prime: float, name=None):\n",
    "        Line.lineNumber += 1\n",
    "        self.lineNumber = Line.lineNumber\n",
    "        self.fromNode = fromNode\n",
    "        self.toNode = toNode\n",
    "        self.r = r\n",
    "        self.x = x\n",
    "        self.b_half = b_half\n",
    "        self.x_prime = x_prime\n",
    "        self.z = self.r + self.x * 1j\n",
    "        self.y = 1 / self.z\n",
    "        self.b = self.b_half * 1j\n",
    "\n",
    "        # avoiding the same name for two different lines\n",
    "        if name in Node.names:\n",
    "            Line.lineNumber -= 1\n",
    "            raise NameError(\"Already used name '%s'.\" % name)\n",
    "\n",
    "        if name is None:\n",
    "            self._name = str(self.lineNumber)\n",
    "        else:\n",
    "            self._name = name\n",
    "        Line.names.add(self.name)\n",
    "\n",
    "\n",
    "class Grid:\n",
    "    def __init__(self, nodes: list, lines: list):\n",
    "        self.nodes = nodes\n",
    "        self.lines = lines\n",
    "        self.Y = np.zeros((self.nb, self.nb), dtype=complex)\n",
    "        self.nl = len(self.lines)\n",
    "        self.create_matrix()\n",
    "        self.Pl = np.vstack([node.PLi for node in self.nodes])\n",
    "        self.Ql = np.vstack([node.QLi for node in self.nodes])\n",
    "        self.Pg = np.vstack([node.PGi for node in self.nodes])\n",
    "        self.Qg = np.vstack([node.QGi for node in self.nodes])\n",
    "        self.Psp = self.Pg - self.Pl\n",
    "        self.Qsp = self.Qg - self.Ql\n",
    "\n",
    "    @property\n",
    "    def nb(self):\n",
    "        fromBus = [line.fromNode.nodeNumber for line in self.lines]\n",
    "        toBus = [line.toNode.nodeNumber for line in self.lines]\n",
    "        return max(max(fromBus), max(toBus)) + 1 # +1 because of the 0-indexing\n",
    "\n",
    "    def get_node_by_number(self, number: int):\n",
    "        for node in self.nodes:\n",
    "            if node.nodeNumber == number:\n",
    "                return node\n",
    "        raise NameError(\"No node with number %d.\" % number)\n",
    "\n",
    "    def get_line_by_number(self, number: int):\n",
    "        for line in self.lines:\n",
    "            if line.lineNumber == number:\n",
    "                return line\n",
    "        raise NameError(\"No line with number %d.\" % number)\n",
    "\n",
    "    def get_lines_by_node(self, nodeNumber):\n",
    "        lines = [line for line in self.lines if\n",
    "                 (line.toNode.nodeNumber == nodeNumber or line.fromNode.nodeNumber == nodeNumber)]\n",
    "        return lines\n",
    "\n",
    "    @property\n",
    "    def pq_nodes(self):\n",
    "        pq_nodes = [node for node in self.nodes if node.type == 3]\n",
    "        return pq_nodes\n",
    "\n",
    "    @property\n",
    "    def pv_nodes(self):\n",
    "        pq_nodes = [node for node in self.nodes if node.type == 2]\n",
    "        return pq_nodes\n",
    "\n",
    "    def create_matrix(self):\n",
    "        # off diagonal elements\n",
    "        for k in range(self.nl):\n",
    "            line = self.lines[k]\n",
    "            fromNode = line.fromNode.nodeNumber\n",
    "            toNode = line.toNode.nodeNumber\n",
    "            self.Y[fromNode, toNode] -= line.y/line.x_prime\n",
    "            self.Y[toNode, fromNode] = self.Y[fromNode, toNode]\n",
    "\n",
    "        # diagonal elements\n",
    "        for m in range(self.nb):\n",
    "            for n in range(self.nl):\n",
    "                line = self.lines[n]\n",
    "                if line.fromNode.nodeNumber == m:\n",
    "                    self.Y[m, m] += line.y/(line.x_prime**2) + line.b\n",
    "                elif line.toNode.nodeNumber == m:\n",
    "                    self.Y[m, m] += line.y+ line.b\n",
    "\n",
    "    def calculateLf(self, BMva=100):\n",
    "        Vm = np.vstack([node.vmLf for node in self.nodes]).reshape((self.nb, -1))\n",
    "        self.I = np.matmul(self.Y, Vm)\n",
    "        Iij = np.zeros((self.nb, self.nb), dtype=complex)\n",
    "        Sij = np.zeros((self.nb, self.nb), dtype=complex)\n",
    "\n",
    "        self.Im = abs(self.I)\n",
    "        self.Ia = np.angle(self.I)\n",
    "\n",
    "        for node in self.nodes:\n",
    "            m = node.nodeNumber  # node index\n",
    "            lines = self.get_lines_by_node(nodeNumber=node.nodeNumber)\n",
    "            for line in lines:\n",
    "                if line.fromNode.nodeNumber == m:\n",
    "                    p = line.toNode.nodeNumber  # index to\n",
    "                    if m != p:\n",
    "                        Iij[m,p] = -(line.fromNode.vmLf - line.toNode.vmLf * line.x_prime) * self.Y[m,p]/(line.x_prime ** 2) + line.b / (line.x_prime ** 2) * line.fromNode.vmLf\n",
    "                        Iij[p,m] = - (line.toNode.vmLf - line.fromNode.vmLf / line.x_prime) * self.Y[p,m] + line.b * line.toNode.vmLf\n",
    "                else:\n",
    "                    p = line.fromNode.nodeNumber  # index from\n",
    "                    if m != p:\n",
    "                        Iij[m,p] = - (line.toNode.vmLf - line.fromNode.vmLf / line.x_prime) * self.Y[p,m] + line.b * line.toNode.vmLf\n",
    "                        Iij[p,m] = - (line.fromNode.vmLf - line.toNode.vmLf) * self.Y[m,p] / (\n",
    "                                    line.x_prime ** 2) + line.b / (line.x_prime ** 2) * line.fromNode.vmLf\n",
    "\n",
    "        self.Iij = Iij\n",
    "        self.Iijr = np.real(Iij)\n",
    "        self.Iiji = np.imag(Iij)\n",
    "\n",
    "        # line powerflows\n",
    "        for m in range(self.nb):\n",
    "            for n in range(self.nb):\n",
    "                if n != m:\n",
    "                    Sij[m,n] = self.nodes[m].vmLf * np.conj(self.Iij[m, n]) * BMva\n",
    "\n",
    "        self.Sij = Sij\n",
    "        self.Pij = np.real(Sij)\n",
    "        self.Qij = np.imag(Sij)\n",
    "\n",
    "        # line losses\n",
    "        Lij = np.zeros(self.nl, dtype=complex)\n",
    "        for line in self.lines:\n",
    "            m = line.lineNumber - 1\n",
    "            p = line.fromNode.nodeNumber\n",
    "            q = line.toNode.nodeNumber\n",
    "            Lij[m] = Sij[p, q] + Sij[q, p]\n",
    "\n",
    "        self.Lij = Lij\n",
    "        self.Lpij = np.real(Lij)\n",
    "        self.Lqij = np.imag(Lij)\n",
    "\n",
    "        # Bus power injection\n",
    "        Si = np.zeros(self.nb, dtype=complex)\n",
    "        for i in range(self.nb):\n",
    "            for k in range(self.nb):\n",
    "                Si[i] += np.conj(self.nodes[i].vmLf) * self.nodes[k].vmLf * self.Y[i, k] * BMva\n",
    "\n",
    "        self.Si = Si\n",
    "        self.Pi = np.real(Si)\n",
    "        self.Qi = -np.imag(Si)\n",
    "        self.Pg = self.Pi + self.Pl\n",
    "        self.Qg = self.Qi + self.Ql\n",
    "\n",
    "    def loadflow(self, tol=1, maxIter=10000, BMva=100):\n",
    "        self.iter = 0\n",
    "        Pg = self.Pg / BMva\n",
    "        Qg = self.Qg / BMva\n",
    "        Pl = self.Pl / BMva\n",
    "        Ql = self.Ql / BMva\n",
    "        Psp = self.Psp / BMva\n",
    "        Qsp = self.Qsp / BMva\n",
    "        G = np.real(self.Y)\n",
    "        B = np.imag(self.Y)\n",
    "        angles = np.zeros((self.nb,1))\n",
    "        npv = len(self.pv_nodes)\n",
    "        npq = len(self.pq_nodes)\n",
    "        self.tolerances = []\n",
    "\n",
    "        while tol > 1e-5 and self.iter < maxIter:\n",
    "            self.iter += 1\n",
    "            P = np.zeros((self.nb, 1))\n",
    "            Q = np.zeros((self.nb, 1))\n",
    "\n",
    "            #calculate P and Q\n",
    "            for node in self.nodes:\n",
    "                i = node.nodeNumber\n",
    "                for k in range(self.nb):\n",
    "                    P[i] += node.vLf*self.nodes[k].vLf*(G[i, k]*np.cos(angles[i]-angles[k]) + B[i,k]*np.sin(angles[i]-angles[k]))\n",
    "                    Q[i] += node.vLf*self.nodes[k].vLf*(G[i, k]*np.sin(angles[i]-angles[k]) - B[i,k]*np.cos(angles[i]-angles[k]))\n",
    "\n",
    "            #calculate Q-limit violations\n",
    "            if self.iter > 1 and self.iter <= 7:\n",
    "                for node in self.nodes:\n",
    "                    i = node.nodeNumber\n",
    "                    if node.type == 2:\n",
    "                        QG = Q[i] + Ql[i]\n",
    "                        if QG < node.Qmin:\n",
    "                            self.nodes[i].vLf += 0.01\n",
    "                        elif QG > node.Qmax:\n",
    "                            self.nodes[i].vLf -= 0.01\n",
    "\n",
    "            #calculate changes in specified active and reactive power\n",
    "            dPa = Psp - P\n",
    "            dQa = Qsp - Q\n",
    "            k = 0\n",
    "            dQ = np.zeros((npq, 1))\n",
    "            for node in self.pq_nodes:\n",
    "                i = node.nodeNumber\n",
    "                if node.type == 3:\n",
    "                    dQ[k] = dQa[i]\n",
    "                    k += 1\n",
    "            dP = dPa[1:self.nb]\n",
    "            M = np.vstack((dP, dQ))\n",
    "\n",
    "            #calculate Jacobian. #\n",
    "            #J1 is the derivative of P with respect to angles\n",
    "            J1 = np.zeros((self.nb-1, self.nb-1))\n",
    "            for i in range(self.nb-1):\n",
    "                m = i + 1\n",
    "                for k in range(self.nb-1):\n",
    "                    n = k + 1\n",
    "                    if n == m:\n",
    "                        for n in range(self.nb):\n",
    "                            J1[i, k] += self.nodes[m].vLf*self.nodes[n].vLf*(-G[m,n]*np.sin(angles[m]-angles[n]) + B[m,n]*np.cos(angles[m]-angles[n]))\n",
    "                        J1[i,k] += -self.nodes[m].vLf**2*B[m,m]\n",
    "                    else:\n",
    "                        J1[i,k] = self.nodes[m].vLf*self.nodes[n].vLf*(G[m,n]*np.sin(angles[m]-angles[n]) - B[m,n]*np.cos(angles[m]-angles[n]))\n",
    "\n",
    "            #J2 is the derivative of P with respect to V\n",
    "            J2 = np.zeros((self.nb-1, npq))\n",
    "            for i in range(self.nb-1):\n",
    "                m = i + 1\n",
    "                for k in range(npq):\n",
    "                    n = self.pq_nodes[k].nodeNumber\n",
    "                    if n == m:\n",
    "                        for n in range(self.nb):\n",
    "                            J2[i, k] += self.nodes[n].vLf*(G[m,n]*np.cos(angles[m]-angles[n]) + B[m,n]*np.sin(angles[m]-angles[n]))\n",
    "                        J2[i,k] += self.nodes[m].vLf*G[m,m]\n",
    "                    else:\n",
    "                        J2[i,k] = self.nodes[m].vLf*(G[m,n]*np.cos(angles[m]-angles[n]) + B[m,n]*np.sin(angles[m]-angles[n]))\n",
    "\n",
    "\n",
    "            #J3 is the derivative of Q with respect to angles\n",
    "            J3 = np.zeros((npq, self.nb-1))\n",
    "            for i in range(npq):\n",
    "                m = self.pq_nodes[i].nodeNumber\n",
    "                for k in range(self.nb-1):\n",
    "                    n = k + 1\n",
    "                    if n == m:\n",
    "                        for n in range(self.nb):\n",
    "                            J3[i, k] += self.nodes[m].vLf*self.nodes[n].vLf*(G[m,n]*np.cos(angles[m]-angles[n]) + B[m,n]*np.sin(angles[m]-angles[n]))\n",
    "                        J3[i,k] += -self.nodes[m].vLf**2*G[m,m]\n",
    "                    else:\n",
    "                        J3[i,k] = self.nodes[m].vLf*self.nodes[n].vLf*(-G[m,n]*np.cos(angles[m]-angles[n]) - B[m,n]*np.sin(angles[m]-angles[n]))\n",
    "\n",
    "            #J4 is the derivative of Q with respect to V\n",
    "            J4 = np.zeros((npq, npq))\n",
    "            for i in range(npq):\n",
    "                m = self.pq_nodes[i].nodeNumber\n",
    "                for k in range(npq):\n",
    "                    n = self.pq_nodes[k].nodeNumber\n",
    "                    if n == m:\n",
    "                        for n in range(self.nb):\n",
    "                            J4[i, k] += self.nodes[n].vLf*(G[m,n]*np.sin(angles[m]-angles[n]) - B[m,n]*np.cos(angles[m]-angles[n]))\n",
    "                        J4[i,k] += -self.nodes[m].vLf*B[m,m]\n",
    "                    else:\n",
    "                        J4[i,k] = self.nodes[m].vLf*(G[m,n]*np.sin(angles[m]-angles[n]) - B[m,n]*np.cos(angles[m]-angles[n]))\n",
    "\n",
    "            self.J = np.vstack((np.hstack((J1, J2)), np.hstack((J3, J4))))\n",
    "            #end of Jacobian calculation\n",
    "            #J X = M -> X = J^-1 M\n",
    "            X = np.linalg.solve(self.J, M)\n",
    "            dTh = X[0:self.nb-1]\n",
    "            dV = X[self.nb-1:]\n",
    "\n",
    "            #update Angles and Voltages\n",
    "            angles[1:] += dTh #angles[0] is the angle of the slack bus\n",
    "            k=0\n",
    "            for i in range(1, self.nb):\n",
    "                if self.nodes[i].type == 3:\n",
    "                    self.nodes[i].vLf += dV[k]\n",
    "                    k += 1\n",
    "                self.nodes[i].thetaLf = angles[i].item()\n",
    "\n",
    "            tol = max(abs(M))\n",
    "            self.tolerances.append((tol))\n",
    "\n",
    "        #the iteration is over; calculate the power flow\n",
    "        self.calculateLf()"
   ]
  },
  {
   "cell_type": "code",
   "execution_count": 5,
   "metadata": {
    "pycharm": {
     "name": "#%%\n"
    }
   },
   "outputs": [],
   "source": [
    "n1 = Node(1,1.05,0,0.0,0,0,0,0,0)\n",
    "n2 = Node(2,1.05,0,0.5,0,0,0,-0.5,1.0)\n",
    "n3 = Node(2,1.07,0,0.6,0,0,0,-0.5,1.5)\n",
    "n4 = Node(3,1.0,0,0.0,0,0.7,0.7,0,0)\n",
    "n5 = Node(3,1.0,0,0.0,0,0.7,0.7,0,0)\n",
    "n6 = Node(3,1.0,0,0.0,0,0.7,0.7,0,0)"
   ]
  },
  {
   "cell_type": "code",
   "execution_count": 515,
   "metadata": {
    "pycharm": {
     "name": "#%%\n"
    }
   },
   "outputs": [],
   "source": [
    "n1 = Node(1,1.05,0,0,0,0,0,0,0)\n",
    "n2 = Node(3,1,0,0,0,256.6,110.2,0,0)\n",
    "n3 = Node(3,1,0,0,0,138.6,45.2,0,0)"
   ]
  },
  {
   "cell_type": "code",
   "execution_count": 515,
   "metadata": {
    "pycharm": {
     "name": "#%%\n"
    }
   },
   "outputs": [],
   "source": []
  },
  {
   "cell_type": "code",
   "execution_count": 6,
   "metadata": {
    "pycharm": {
     "name": "#%%\n"
    }
   },
   "outputs": [],
   "source": [
    "l1 = Line(n1,n2,0.1,0.2,0.02,1)\n",
    "l2 = Line(n1,n4,0.05,0.2,0.02,1)\n",
    "l3 = Line(n1, n5, 0.08,0.3,0.03,1)\n",
    "l4=Line(n2,n3,0.05,0.25,0.03,1)\n",
    "l5=Line(n2,n4,0.05,0.1,0.01,1)\n",
    "l6=Line(n2,n5,0.1,0.3,0.02,1)\n",
    "l7=Line(n2,n6,0.07,0.2,0.025,1)\n",
    "l8=Line(n3,n5,0.12,0.26,0.025,1)\n",
    "l9=Line(n3,n6,0.02,0.1,0.01,1)\n",
    "l10=Line(n4,n5,0.2,0.4,0.04,1)\n",
    "l11=Line(n5,n6,0.1,0.3,0.03,1)"
   ]
  },
  {
   "cell_type": "code",
   "execution_count": 517,
   "metadata": {
    "pycharm": {
     "name": "#%%\n"
    }
   },
   "outputs": [],
   "source": [
    "l1 = Line(n1, n2, 0.02, 0.04, 0, 1)\n",
    "l2 = Line(n1, n3, 0.01, 0.03, 0, 1)\n",
    "l3 = Line(n2, n3, 0.0125, 0.025, 0, 1)"
   ]
  },
  {
   "cell_type": "code",
   "execution_count": 7,
   "metadata": {
    "pycharm": {
     "name": "#%%\n"
    }
   },
   "outputs": [],
   "source": [
    "nodes = [n1, n2, n3, n4, n5, n6]\n",
    "lines = [l1, l2, l3,l4,l5,l6,l7,l8,l9,l10,l11]"
   ]
  },
  {
   "cell_type": "code",
   "execution_count": 8,
   "metadata": {
    "pycharm": {
     "name": "#%%\n"
    }
   },
   "outputs": [],
   "source": [
    "grid = Grid(nodes=nodes, lines=lines)"
   ]
  },
  {
   "cell_type": "code",
   "execution_count": 11,
   "metadata": {
    "pycharm": {
     "name": "#%%\n"
    }
   },
   "outputs": [],
   "source": [
    "grid.loadflow()"
   ]
  },
  {
   "cell_type": "code",
   "execution_count": 12,
   "metadata": {
    "pycharm": {
     "name": "#%%\n"
    }
   },
   "outputs": [
    {
     "data": {
      "text/plain": [
       "array([[ 0.         +0.j        , -0.44615074 -7.22809186j,\n",
       "         0.         +0.j        ,  0.8223004  -9.04228925j,\n",
       "         0.773772  -11.19321736j,  0.         +0.j        ],\n",
       "       [ 0.46921695 +2.82202429j,  0.         +0.j        ,\n",
       "         0.34626686 -7.67844566j, -0.37562665 -3.73674628j,\n",
       "         0.08026789 -6.50130716j, -0.02012505 -8.63059674j],\n",
       "       [ 0.         +0.j        , -0.3379562  +0.91449895j,\n",
       "         0.         +0.j        ,  0.         +0.j        ,\n",
       "         0.16171246 -3.74831356j,  0.77624374 -2.37418618j],\n",
       "       [-0.8007926  +4.66490111j,  0.37872812 +1.49013955j,\n",
       "         0.         +0.j        ,  0.         +0.j        ,\n",
       "        -0.27793552 -6.85504066j,  0.         +0.j        ],\n",
       "       [-0.72821499 +4.60918047j, -0.06415551 +2.00419384j,\n",
       "        -0.16086216 -1.9849072j ,  0.28775555 -2.2386589j ,\n",
       "         0.         +0.j        , -0.03452289 -3.08980821j],\n",
       "       [ 0.         +0.j        ,  0.04123931 +3.01429819j,\n",
       "        -0.7758745  +0.08408237j,  0.         +0.j        ,\n",
       "         0.03463519 -3.79838056j,  0.         +0.j        ]])"
      ]
     },
     "execution_count": 12,
     "metadata": {},
     "output_type": "execute_result"
    }
   ],
   "source": [
    "grid.Sij"
   ]
  },
  {
   "cell_type": "code",
   "execution_count": 13,
   "metadata": {
    "pycharm": {
     "name": "#%%\n"
    }
   },
   "outputs": [
    {
     "data": {
      "text/plain": [
       "array([[1.05      +0.j        ],\n",
       "       [1.0599927 -0.00393409j],\n",
       "       [1.06997827-0.00681974j],\n",
       "       [1.06263184-0.00482214j],\n",
       "       [1.07194108-0.00821894j],\n",
       "       [1.07097593-0.00778135j]])"
      ]
     },
     "execution_count": 13,
     "metadata": {},
     "output_type": "execute_result"
    }
   ],
   "source": [
    "Vm = np.vstack([node.vmLf for node in grid.nodes])\n",
    "Vm"
   ]
  },
  {
   "cell_type": "code",
   "execution_count": 486,
   "metadata": {
    "pycharm": {
     "name": "#%%\n"
    }
   },
   "outputs": [
    {
     "data": {
      "text/plain": [
       "array([8.5+17.j , 5. +15.j , 0.8 +1.6j])"
      ]
     },
     "execution_count": 486,
     "metadata": {},
     "output_type": "execute_result"
    }
   ],
   "source": [
    "Lij"
   ]
  },
  {
   "cell_type": "code",
   "execution_count": 487,
   "metadata": {
    "pycharm": {
     "name": "#%%\n"
    }
   },
   "outputs": [],
   "source": [
    "# Bus power injection\n",
    "Si = np.zeros(grid.nb, dtype=complex)\n",
    "for i in range(grid.nb):\n",
    "    for k in range(grid.nb):\n",
    "        Si[i] += np.conj(grid.nodes[i].vmLf * grid.nodes[k].vmLf * grid.Y[i, k]) * BMva\n",
    "\n",
    "grid.Si = Si\n",
    "grid.Pi = np.real(Si)\n",
    "grid.Qi = -np.imag(Si)\n",
    "grid.Pg = grid.Pi + grid.Pl\n",
    "grid.Qg = grid.Qi + grid.Ql"
   ]
  },
  {
   "cell_type": "code",
   "execution_count": 491,
   "metadata": {
    "pycharm": {
     "name": "#%%\n"
    }
   },
   "outputs": [
    {
     "data": {
      "text/plain": [
       "(2205+5512.5j)"
      ]
     },
     "execution_count": 491,
     "metadata": {},
     "output_type": "execute_result"
    }
   ],
   "source": [
    "i = 0\n",
    "k = 0\n",
    "np.conj(grid.nodes[i].vmLf * grid.nodes[k].vmLf * grid.Y[i, k]) * BMva"
   ]
  },
  {
   "cell_type": "code",
   "execution_count": 490,
   "metadata": {
    "pycharm": {
     "name": "#%%\n"
    }
   },
   "outputs": [],
   "source": []
  },
  {
   "cell_type": "code",
   "execution_count": 490,
   "metadata": {
    "pycharm": {
     "name": "#%%\n"
    }
   },
   "outputs": [],
   "source": []
  },
  {
   "cell_type": "code",
   "execution_count": null,
   "metadata": {
    "pycharm": {
     "name": "#%%\n"
    }
   },
   "outputs": [],
   "source": []
  }
 ],
 "metadata": {
  "kernelspec": {
   "display_name": "Python 3 (ipykernel)",
   "language": "python",
   "name": "python3"
  },
  "language_info": {
   "codemirror_mode": {
    "name": "ipython",
    "version": 3
   },
   "file_extension": ".py",
   "mimetype": "text/x-python",
   "name": "python",
   "nbconvert_exporter": "python",
   "pygments_lexer": "ipython3",
   "version": "3.10.5"
  }
 },
 "nbformat": 4,
 "nbformat_minor": 1
}
